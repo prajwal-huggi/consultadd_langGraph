{
 "cells": [
  {
   "cell_type": "code",
   "execution_count": 36,
   "id": "c3853b4f",
   "metadata": {},
   "outputs": [],
   "source": [
    "from langchain_huggingface import HuggingFaceEndpoint, ChatHuggingFace\n",
    "\n",
    "from langgraph.graph import StateGraph, START, END\n",
    "from typing import TypedDict\n",
    "import os\n",
    "from dotenv import load_dotenv"
   ]
  },
  {
   "cell_type": "code",
   "execution_count": 37,
   "id": "5cae72f6",
   "metadata": {},
   "outputs": [],
   "source": [
    "load_dotenv()\n",
    "\n",
    "llm= HuggingFaceEndpoint(\n",
    "    repo_id=\"meta-llama/Llama-3.2-3B-Instruct\",\n",
    "    task=\"text-generation\",\n",
    "    huggingfacehub_api_token= os.getenv(\"HUGGINGFACE_API_ENDPOINT\"),\n",
    "    max_new_tokens= 500,\n",
    "    temperature= 0.3\n",
    ")\n",
    "\n",
    "model= ChatHuggingFace(llm= llm)"
   ]
  },
  {
   "cell_type": "code",
   "execution_count": 38,
   "id": "92738b95",
   "metadata": {},
   "outputs": [],
   "source": [
    "class BlogState(TypedDict):\n",
    "    outline: str\n",
    "    title: str\n",
    "    content: str\n",
    "    evaluate: float"
   ]
  },
  {
   "cell_type": "code",
   "execution_count": 39,
   "id": "b8463813",
   "metadata": {},
   "outputs": [],
   "source": [
    "def create_outline(state: BlogState)-> BlogState:\n",
    "    title= state['title']\n",
    "    \n",
    "    prompt= f\"generate a outline for the blog on the topic: {title}\"\n",
    "    \n",
    "    state['outline']= model.invoke(prompt).content\n",
    "    \n",
    "    return state"
   ]
  },
  {
   "cell_type": "code",
   "execution_count": 40,
   "id": "3fd6ba83",
   "metadata": {},
   "outputs": [],
   "source": [
    "def create_blog(state: BlogState)-> BlogState:\n",
    "    outline= state['outline']\n",
    "    title= state['title']\n",
    "    \n",
    "    prompt= f\"Write a detailed blog on the title: {title} using the given outline: {outline}\"\n",
    "    \n",
    "    blog= model.invoke(prompt).content\n",
    "    state['content']= blog\n",
    "    \n",
    "    return state"
   ]
  },
  {
   "cell_type": "code",
   "execution_count": 41,
   "id": "eaacb90c",
   "metadata": {},
   "outputs": [],
   "source": [
    "def evaluate_blog(state:BlogState):\n",
    "    content= state['content']\n",
    "    outline= state['outline']\n",
    "    \n",
    "    prompt= f\"Based on the outline({outline}) can you rate the blog({content}) out of 10. Just provide the number in float datatype and nothing else\"\n",
    "    \n",
    "    state['evaluate']= float(model.invoke(prompt).content)\n",
    "    \n",
    "    return state"
   ]
  },
  {
   "cell_type": "code",
   "execution_count": 42,
   "id": "423bd372",
   "metadata": {},
   "outputs": [],
   "source": [
    "graph= StateGraph(BlogState)\n",
    "\n",
    "graph.add_node('create_outline', create_outline)\n",
    "graph.add_node('create_blog', create_blog)\n",
    "graph.add_node('evaluate_blog', evaluate_blog)\n",
    "\n",
    "graph.add_edge(START, 'create_outline')\n",
    "graph.add_edge('create_outline', 'create_blog')\n",
    "graph.add_edge('create_blog', 'evaluate_blog')\n",
    "graph.add_edge('evaluate_blog', END)\n",
    "\n",
    "workflow= graph.compile()"
   ]
  },
  {
   "cell_type": "code",
   "execution_count": 43,
   "id": "54dab416",
   "metadata": {},
   "outputs": [
    {
     "name": "stdout",
     "output_type": "stream",
     "text": [
      "{'outline': 'Here\\'s an outline for a blog on the topic \"Cars\":\\n\\n**I. Introduction**\\n\\n* Brief overview of the importance of cars in our lives\\n* Explanation of the purpose of the blog post\\n* Thesis statement: This blog post will explore the latest trends, features, and technologies in the car industry, as well as provide tips and advice for car buyers and enthusiasts.\\n\\n**II. The Evolution of Cars**\\n\\n* History of cars: from horse-drawn carriages to electric vehicles\\n* Key milestones in car development: innovations, technologies, and design trends\\n* Examples of iconic cars: their design, performance, and cultural impact\\n\\n**III. Latest Trends and Features in the Car Industry**\\n\\n* Electric and hybrid vehicles: benefits, challenges, and future prospects\\n* Autonomous driving: current state, applications, and regulatory frameworks\\n* Advanced safety features: airbags, lane departure warning systems, and more\\n* Infotainment systems: integration with smartphones, voice assistants, and more\\n\\n**IV. Car Buying Tips and Advice**\\n\\n* Research and comparison: how to choose the right car for your needs\\n* Budgeting and financing: tips for buying a car without breaking the bank\\n* Test drives and inspections: what to look for when buying a used car\\n* Maintenance and repair: how to keep your car running smoothly\\n\\n**V. Car Enthusiast\\'s Corner**\\n\\n* Car culture: car shows, racing, and car collecting\\n* Car customization: tuning, modifications, and personalization\\n* Classic cars: restoration, preservation, and appreciation\\n* Car racing and performance: track days, drift racing, and more\\n\\n**VI. Conclusion**\\n\\n* Recap of the main points discussed in the blog post\\n* Final thoughts: the future of cars, the importance of car ownership, and more.\\n\\nThis outline provides a general structure for a blog post on the topic of cars, covering a range of topics from history and trends to car buying tips and enthusiast culture.', 'title': 'Cars', 'content': \"**The Future of Wheels: Exploring the Latest Trends, Features, and Technologies in the Car Industry**\\n\\nIn the world of transportation, cars have come a long way since the horse-drawn carriages of the 18th century. Today, cars are an integral part of our daily lives, offering convenience, freedom, and excitement. With the rapid advancement of technology, the car industry has become more sophisticated, innovative, and diverse. In this blog post, we will explore the latest trends, features, and technologies in the car industry, as well as provide tips and advice for car buyers and enthusiasts.\\n\\n**I. Introduction**\\n\\nThe car industry has undergone significant transformations over the years, from the introduction of the internal combustion engine to the development of electric and hybrid vehicles. Today, cars are not just a mode of transportation but a symbol of status, luxury, and innovation. With the rise of autonomous driving, advanced safety features, and infotainment systems, the car industry is on the cusp of a revolution. In this blog post, we will delve into the latest trends, features, and technologies in the car industry, as well as provide valuable insights for car buyers and enthusiasts.\\n\\n**II. The Evolution of Cars**\\n\\nThe history of cars dates back to the late 19th century, when Karl Benz patented the first gasoline-powered automobile in 1886. Since then, cars have undergone significant transformations, from the introduction of the electric starter to the development of airbags and anti-lock braking systems. Some of the key milestones in car development include:\\n\\n* The introduction of the V8 engine in the 1920s\\n* The development of the Chrysler 300 in the 1950s\\n* The introduction of the Honda Civic in the 1970s\\n* The development of the Tesla Model S in the 2010s\\n\\nSome iconic cars that have made a significant impact on the industry include:\\n\\n* The Ford Mustang, which was first introduced in 1964 and has since become an American icon\\n* The Porsche 911, which was first introduced in 1963 and is widely regarded as one of the most desirable cars in the world\\n* The Toyota Corolla, which was first introduced in 1966 and has since become one of the best-selling cars of all time\\n\\n**III. Latest Trends and Features in the Car Industry**\\n\\nThe car industry is rapidly evolving, with new technologies and innovations emerging every year. Some of the latest trends and features in the car industry include:\\n\\n* Electric and hybrid vehicles: These vehicles offer a more environmentally friendly alternative to traditional gasoline-powered cars. They are powered by electric motors and batteries, and can travel significant distances without the need for refueling.\\n* Autonomous driving: This technology allows cars to drive themselves, without the need for human intervention. It is currently being tested and implemented in various parts of the world.\\n* Advanced safety features: Cars are now equipped with advanced safety features, such as lane departure warning systems and blind spot detection. These features help to prevent accidents and improve overall safety.\\n* Infotainment systems: Modern cars are equipped with advanced infotainment systems, which allow drivers to access entertainment, navigation, and communication systems on the go.\\n\\n**IV. Car Buying Tips and Advice**\\n\\nBuying a car can be a daunting task, especially for first-time buyers. Here are some tips and advice to help you make an informed decision:\\n\\n* Research and comparison: When buying a car, it's essential to research and compare different models to find the best one for your needs. Consider factors such as fuel efficiency, safety features, and price.\\n* Budgeting and financing: Buying a car can be expensive, so it's essential to budget and plan ahead. Consider factors such as insurance costs, maintenance costs, and loan interest rates.\\n* Test drives and inspections: When buying a used car, it's essential to take it for a test drive and inspect the vehicle thoroughly. Look for signs of wear and tear, and check the car's history to ensure that it's a reliable purchase.\\n* Maintenance and repair: Cars require regular maintenance to keep them running smoothly. Consider factors such as oil changes, tire rotations, and brake pad replacements to ensure that your car is in good condition.\\n\\n**V. Car Enthusiast's Corner**\\n\\nFor car enthusiasts, the world of cars is a vast and exciting place. Here are some topics to explore:\\n\\n* Car culture: Car shows, racing, and car collecting are all part of the car enthusiast's lifestyle. Attend car shows, join car clubs, and participate in racing events to connect with like-minded individuals.\\n* Car customization: Cars can be customized to suit individual tastes and preferences. Consider factors such as performance upgrades, interior modifications, and exterior styling to create a unique vehicle.\\n* Classic cars: Classic cars are highly sought after by collectors and enthusiasts. Consider restoring, preserving, and appreciating classic cars to add to your collection.\\n* Car racing and performance: Cars can be driven on the track or at the drift racing circuit. Attend track days, join racing clubs, and participate in drift racing events to experience the thrill of driving a high-performance vehicle.\\n\\n**VI. Conclusion**\\n\\nThe car industry is rapidly evolving, with new technologies and innovations emerging every year. By understanding the latest trends, features, and technologies in the car industry, car buyers and enthusiasts can make informed decisions and enjoy a better driving experience. Whether you're a seasoned car enthusiast or a first-time buyer, this blog post has provided valuable insights and tips to help you navigate the world of cars.\\n\\nThe future of cars is exciting, with autonomous driving, electric and hybrid vehicles, and advanced safety features set to revolutionize the industry. As a car enthusiast or buyer, it's essential to stay informed and up-to-date on the latest trends and innovations. With the rise of autonomous driving, advanced safety features, and infotainment systems, the car industry is on the cusp of a revolution.\\n\\nIn conclusion, this blog post has explored the latest trends, features, and technologies in the car industry, as well as provided valuable insights for car buyers and enthusiasts. Whether you're a seasoned car enthusiast or a first-time buyer, we hope that this blog post has provided you with the information and inspiration you need to enjoy a better driving experience.\", 'evaluate': 8.4}\n"
     ]
    }
   ],
   "source": [
    "initial_state= {'title': 'Cars'}\n",
    "final_state= workflow.invoke(initial_state)\n",
    "\n",
    "print(final_state)"
   ]
  },
  {
   "cell_type": "code",
   "execution_count": 44,
   "id": "ec623a62",
   "metadata": {},
   "outputs": [
    {
     "name": "stdout",
     "output_type": "stream",
     "text": [
      "8.4\n"
     ]
    }
   ],
   "source": [
    "print(final_state['evaluate'])"
   ]
  },
  {
   "cell_type": "code",
   "execution_count": null,
   "id": "6ced6e3f",
   "metadata": {},
   "outputs": [],
   "source": [
    "workflow."
   ]
  }
 ],
 "metadata": {
  "kernelspec": {
   "display_name": ".venv",
   "language": "python",
   "name": "python3"
  },
  "language_info": {
   "codemirror_mode": {
    "name": "ipython",
    "version": 3
   },
   "file_extension": ".py",
   "mimetype": "text/x-python",
   "name": "python",
   "nbconvert_exporter": "python",
   "pygments_lexer": "ipython3",
   "version": "3.9.6"
  }
 },
 "nbformat": 4,
 "nbformat_minor": 5
}
