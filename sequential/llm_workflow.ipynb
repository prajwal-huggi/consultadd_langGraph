{
 "cells": [
  {
   "cell_type": "code",
   "execution_count": 7,
   "id": "0bd947a3",
   "metadata": {},
   "outputs": [],
   "source": [
    "from langchain_huggingface import HuggingFaceEndpoint, ChatHuggingFace\n",
    "\n",
    "from langgraph.graph import StateGraph, START, END\n",
    "from typing import TypedDict\n",
    "import os\n",
    "from dotenv import load_dotenv"
   ]
  },
  {
   "cell_type": "code",
   "execution_count": 8,
   "id": "4fbcb65e",
   "metadata": {},
   "outputs": [],
   "source": [
    "load_dotenv()\n",
    "\n",
    "llm= HuggingFaceEndpoint(\n",
    "    repo_id=\"meta-llama/Llama-3.2-3B-Instruct\",\n",
    "    task=\"text-generation\",\n",
    "    huggingfacehub_api_token= os.getenv(\"HUGGINGFACE_API_ENDPOINT\"),\n",
    "    max_new_tokens= 500,\n",
    "    temperature= 0.3\n",
    ")\n",
    "\n",
    "model= ChatHuggingFace(llm= llm)"
   ]
  },
  {
   "cell_type": "code",
   "execution_count": 9,
   "id": "a5079aa7",
   "metadata": {},
   "outputs": [],
   "source": [
    "# create a state\n",
    "class LLMState(TypedDict):\n",
    "    question: str\n",
    "    answer: str"
   ]
  },
  {
   "cell_type": "code",
   "execution_count": 10,
   "id": "12a09634",
   "metadata": {},
   "outputs": [],
   "source": [
    "def llm_qa(state:LLMState)-> LLMState:\n",
    "    # extract the question from the state\n",
    "    que= state['question']\n",
    "    \n",
    "    # give it to the model\n",
    "    answer= model.invoke(que).content\n",
    "    \n",
    "    # save the answer in the state\n",
    "    state['answer']= answer\n",
    "    \n",
    "    return state"
   ]
  },
  {
   "cell_type": "code",
   "execution_count": 11,
   "id": "4257d113",
   "metadata": {},
   "outputs": [],
   "source": [
    "# create a graph\n",
    "graph= StateGraph(LLMState)\n",
    "\n",
    "# add nodes\n",
    "graph.add_node('llm_qa', llm_qa)\n",
    "\n",
    "# add edges\n",
    "graph.add_edge(START, 'llm_qa')\n",
    "graph.add_edge('llm_qa',END)\n",
    "\n",
    "# compile\n",
    "workflow= graph.compile()\n",
    "\n"
   ]
  },
  {
   "cell_type": "code",
   "execution_count": 12,
   "id": "905a3d10",
   "metadata": {},
   "outputs": [
    {
     "data": {
      "text/plain": [
       "{'question': 'Tell me about the meditation',\n",
       " 'answer': 'There are many types of meditation practices, and I\\'ll provide an overview of some of the most popular ones:\\n\\n1. **Mindfulness Meditation**: This involves paying attention to the present moment, often by focusing on the breath, body sensations, or emotions. The goal is to cultivate awareness and acceptance of the present moment, without judgment or attachment.\\n2. **Loving-Kindness Meditation**: Also known as Metta Meditation, this practice involves cultivating feelings of love, compassion, and kindness towards oneself and others. The goal is to develop a sense of inner peace and connection with others.\\n3. **Transcendental Meditation**: This is a technique developed by Maharishi Mahesh Yogi, which involves the use of a mantra to quiet the mind and access a deeper state of consciousness. The goal is to experience a state of inner peace and unity.\\n4. **Concentration Meditation**: This involves focusing the mind on a single point, such as the breath, a mantra, or a visualization. The goal is to develop concentration and mental clarity.\\n5. **Guided Meditation**: This involves listening to a guided audio or visualization, which leads the listener through a meditation practice. The goal is to access a state of relaxation and inner peace.\\n6. **Body Scan Meditation**: This involves lying down or sitting comfortably, and bringing awareness to different parts of the body, often starting from the toes and moving up to the head. The goal is to release tension and promote relaxation.\\n7. **Walking Meditation**: This involves paying attention to the walking process, often by paying attention to the breath, footfalls, or body movements. The goal is to cultivate mindfulness and awareness while engaging in physical activity.\\n8. **Zen Meditation**: Also known as Zazen, this practice involves sitting in stillness and silence, often with eyes closed, to cultivate a state of awareness and insight.\\n9. **Kundalini Meditation**: This involves using breath, movement, and sound to awaken the energy at the base of the spine, and then to raise it through the chakras. The goal is to experience spiritual growth and self-awareness.\\n10. **Chakra Meditation**: This involves focusing on the different energy centers in the body, often using visualization, breathwork, or sound to balance and align the energy.\\n\\nSome popular meditation techniques include:\\n\\n* **4-7-8 Breathing**: Also known as the \"relaxation breath,\" this involves breathing in through the nose for a count of 4, holding the breath for a count of 7, and exhaling through the mouth for a count of 8.\\n* **Body Locks**: This involves using physical postures, such as the \"Corpse Pose\" or \"Legs Up the Wall Pose,\" to relax the body and calm the mind.\\n* **Eye Movement**: This involves using eye movements, such as following a point or using a pendulum, to stimulate the brain and promote relaxation.\\n* **Sensory Deprivation**: This involves using sensory deprivation techniques, such as floatation or sensory isolation, to quiet the mind and promote relaxation.\\n\\nRemember, meditation is not a one-size-fits-all practice. It\\'s essential to find a meditation technique that resonates with you and to experiment with different practices to find what works best for you.'}"
      ]
     },
     "execution_count": 12,
     "metadata": {},
     "output_type": "execute_result"
    }
   ],
   "source": [
    "# execute\n",
    "initial_state={'question': 'Tell me about the meditation'}\n",
    "final_state= workflow.invoke(initial_state)\n",
    "\n",
    "final_state"
   ]
  },
  {
   "cell_type": "code",
   "execution_count": null,
   "id": "6528406c",
   "metadata": {},
   "outputs": [],
   "source": []
  }
 ],
 "metadata": {
  "kernelspec": {
   "display_name": ".venv",
   "language": "python",
   "name": "python3"
  },
  "language_info": {
   "codemirror_mode": {
    "name": "ipython",
    "version": 3
   },
   "file_extension": ".py",
   "mimetype": "text/x-python",
   "name": "python",
   "nbconvert_exporter": "python",
   "pygments_lexer": "ipython3",
   "version": "3.9.6"
  }
 },
 "nbformat": 4,
 "nbformat_minor": 5
}
