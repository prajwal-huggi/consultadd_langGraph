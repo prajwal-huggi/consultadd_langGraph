{
 "cells": [
  {
   "cell_type": "code",
   "execution_count": 41,
   "id": "152658eb",
   "metadata": {},
   "outputs": [],
   "source": [
    "from langchain_huggingface import HuggingFaceEndpoint, ChatHuggingFace\n",
    "from langchain.output_parsers import PydanticOutputParser\n",
    "from langchain.prompts import PromptTemplate\n",
    "from langgraph.graph import StateGraph, START, END\n",
    "from pydantic import BaseModel, Field\n",
    "\n",
    "from typing import TypedDict, Annotated\n",
    "\n",
    "import os\n",
    "from dotenv import load_dotenv\n",
    "\n",
    "import operator"
   ]
  },
  {
   "cell_type": "code",
   "execution_count": 42,
   "id": "40834b77",
   "metadata": {},
   "outputs": [],
   "source": [
    "class EvaluationSchema(BaseModel):\n",
    "    feedback: str= Field(description=\"Detail feedback for the essay\")\n",
    "    score: int= Field(description=\"Score out of 10\", ge=0, le= 10)\n",
    "    "
   ]
  },
  {
   "cell_type": "code",
   "execution_count": 43,
   "id": "e695d2d9",
   "metadata": {},
   "outputs": [],
   "source": [
    "load_dotenv()\n",
    "\n",
    "llm= HuggingFaceEndpoint(\n",
    "    repo_id=\"meta-llama/Llama-3.2-3B-Instruct\",\n",
    "    task= \"text-generation\",\n",
    "    huggingfacehub_api_token=os.getenv(\"HUGGINGFACE_API_ENDPOINT\"),\n",
    "    max_new_tokens= 500,\n",
    "    temperature= 0.3\n",
    ")\n",
    "\n",
    "model= ChatHuggingFace(llm= llm)\n",
    "# parser= PydanticOutputParser(pydantic_object=EvaluationSchema)\n",
    "\n",
    "# prompt = PromptTemplate(\n",
    "#     template=\"Evaluate the following essay.\\n{format_instructions}\\n\\nEssay: {essay}\\n\",\n",
    "#     input_variables=[\"essay\"],\n",
    "#     partial_variables={\"format_instructions\": parser.get_format_instructions()}\n",
    "# )\n",
    "\n",
    "# chain=  model | parser"
   ]
  },
  {
   "cell_type": "code",
   "execution_count": 44,
   "id": "470ca777",
   "metadata": {},
   "outputs": [],
   "source": [
    "def modelDefine(promptTemplate: str):\n",
    "    llm= HuggingFaceEndpoint(\n",
    "    repo_id=\"meta-llama/Llama-3.2-3B-Instruct\",\n",
    "    task= \"text-generation\",\n",
    "    huggingfacehub_api_token=os.getenv(\"HUGGINGFACE_API_ENDPOINT\"),\n",
    "    max_new_tokens= 500,\n",
    "    temperature= 0.3\n",
    "    )\n",
    "\n",
    "    model= ChatHuggingFace(llm= llm)\n",
    "    parser= PydanticOutputParser(pydantic_object=EvaluationSchema)\n",
    "\n",
    "    prompt = PromptTemplate(\n",
    "        # template=\"{prompt}.\\nThe output should be in the given format: {format_instructions}\\n\",\n",
    "        template=\"\"\"You are an essay evaluator. Analyze the following essay and provide feedback.\n",
    "\n",
    "                    {prompt}\n",
    "\n",
    "                    You must respond with a valid JSON object (not a schema definition) with these exact fields:\n",
    "                    - feedback: string with detailed analysis\n",
    "                    - score: integer from 0 to 10\n",
    "\n",
    "                    {format_instructions}\n",
    "\n",
    "                    Remember: Provide actual values, not a schema definition.\n",
    "                \"\"\",\n",
    "        input_variables= [\"prompt\"],\n",
    "        partial_variables={\"format_instructions\": parser.get_format_instructions()}\n",
    "    )\n",
    "\n",
    "    chain= prompt | model | parser\n",
    "    result= chain.invoke({\"prompt\": promptTemplate})\n",
    "    return result"
   ]
  },
  {
   "cell_type": "code",
   "execution_count": 45,
   "id": "f0dc7000",
   "metadata": {},
   "outputs": [],
   "source": [
    "class UPSCState(TypedDict):\n",
    "    essay: str\n",
    "    \n",
    "    language_feedback: str\n",
    "    analysis_feedback: str\n",
    "    clarity_feedback: str\n",
    "    \n",
    "    overall_feedback: str\n",
    "    individual_scores: Annotated[list[int], operator.add]# add is the reducer\n",
    "    avg_score: float\n",
    "    "
   ]
  },
  {
   "cell_type": "code",
   "execution_count": 46,
   "id": "e64ed52d",
   "metadata": {},
   "outputs": [],
   "source": [
    "def evaluate_language(state: UPSCState):\n",
    "    prompt=f\"Evaluate the language qualify of the following essay and provide a feeedback and assign a score out of 10 |n {state['essay']}\"\n",
    "    output= modelDefine(prompt)\n",
    "    \n",
    "    return {'language_feedback': output.feedback, 'individual_scores':[output.score]}"
   ]
  },
  {
   "cell_type": "code",
   "execution_count": 47,
   "id": "b6ec22a0",
   "metadata": {},
   "outputs": [],
   "source": [
    "def evaluate_analysis(state: UPSCState):\n",
    "    prompt=f\"Evaluate the depth of the following essay and provide a feeedback and assign a score out of 10 |n {state['essay']}\"\n",
    "    output= modelDefine(prompt)\n",
    "    \n",
    "    return {'analysis_feedback': output.feedback, 'individual_scores':[output.score]}"
   ]
  },
  {
   "cell_type": "code",
   "execution_count": 48,
   "id": "2a966c74",
   "metadata": {},
   "outputs": [],
   "source": [
    "def evaluate_thought(state: UPSCState):\n",
    "    prompt=f\"Evaluate the clairty of the thought of the following essay and provide a feeedback and assign a score out of 10 |n {state['essay']}\"\n",
    "    output= modelDefine(prompt)\n",
    "    \n",
    "    return {'clarity_feedback': output.feedback, 'individual_scores':[output.score]}"
   ]
  },
  {
   "cell_type": "code",
   "execution_count": 49,
   "id": "f4581b0a",
   "metadata": {},
   "outputs": [],
   "source": [
    "def final_evaluation(state: UPSCState):\n",
    "    # summary feedback\n",
    "    prompt= f\"Based on the following feedbacks create a summarized feedback \\n language feedback: {state['language_feedback']} \\n dept of the analysis feedback: {state['analysis_feedback']} \\n clarity of thought feedback:{state['clarity_feedback']}\"\n",
    "    overall_feedback= model.invoke(prompt).content\n",
    "    \n",
    "    # avg calculate\n",
    "    avg_score= sum(state['individual_scores'])/ len(state['individual_scores'])\n",
    "    \n",
    "    return {\n",
    "        'overall_feedback': overall_feedback,\n",
    "        'avg_score': avg_score\n",
    "    }\n",
    "    "
   ]
  },
  {
   "cell_type": "code",
   "execution_count": 50,
   "id": "02e9afd3",
   "metadata": {},
   "outputs": [],
   "source": [
    "graph= StateGraph(UPSCState)\n",
    "\n",
    "graph.add_node('evaluate_language', evaluate_language)\n",
    "graph.add_node('evaluate_analysis', evaluate_analysis)\n",
    "graph.add_node('evaluate_thought', evaluate_thought)\n",
    "graph.add_node('final_evaluation', final_evaluation)\n",
    "\n",
    "graph.add_edge(START, 'evaluate_language')\n",
    "graph.add_edge(START, 'evaluate_analysis')\n",
    "graph.add_edge(START, 'evaluate_thought')\n",
    "\n",
    "graph.add_edge('evaluate_language','final_evaluation')\n",
    "graph.add_edge('evaluate_analysis','final_evaluation')\n",
    "graph.add_edge('evaluate_thought','final_evaluation')\n",
    "\n",
    "graph.add_edge('final_evaluation', END)\n",
    "\n",
    "workflow= graph.compile()"
   ]
  },
  {
   "cell_type": "code",
   "execution_count": 51,
   "id": "7846b590",
   "metadata": {},
   "outputs": [],
   "source": [
    "essay=\"\"\"\n",
    "Gaming has evolved from a niche hobby into one of the most influential cultural and technological phenomena of the 21st century. What began with simple pixelated adventures like Pong and Tetris has transformed into immersive digital worlds powered by complex graphics, storytelling, and online communities. Today, gaming is not just entertainment—it’s an ecosystem blending art, technology, psychology, and even economics.\n",
    "\n",
    "One of gaming’s most powerful effects lies in its interactivity. Unlike passive media, games place players inside the story, demanding problem-solving, strategy, and creativity. Competitive games like Valorant or League of Legends sharpen reflexes and teamwork, while narrative experiences such as The Last of Us explore deep emotional and moral questions. In essence, games have become virtual laboratories for human behavior and learning.\n",
    "\n",
    "The rise of esports and streaming platforms has also turned gaming into a legitimate profession. Players, commentators, and developers now form an industry worth hundreds of billions of dollars. However, this growth has brought challenges—addiction, toxicity, and exploitative monetization models continue to plague the community. Responsible gaming habits and ethical design practices are crucial for keeping this digital playground healthy.\n",
    "\n",
    "Beyond competition and profit, gaming has an unexpected social power. Online multiplayer games connect people across cultures, languages, and continents, often creating friendships that transcend geography. From virtual concerts in Fortnite to educational simulations used in classrooms, gaming continues to redefine how humans interact, learn, and create.\n",
    "\n",
    "In short, gaming is no longer “just playing.” It’s storytelling, skill-building, and social connection wrapped in code and imagination—a reflection of how technology and creativity merge to shape the future of human experience.\n",
    "\"\"\""
   ]
  },
  {
   "cell_type": "code",
   "execution_count": 52,
   "id": "1b7f54b6",
   "metadata": {},
   "outputs": [],
   "source": [
    "essay2= \"\"\"\n",
    "Gaming is something that many people do these days and it has become very big in the world. When people are playing games, they are doing it for fun, but also sometimes not for fun because it can make you angry too if you lose or the level is hard. Games are like movies but not really because you can play them and make your own story, but also sometimes the story is already made and you just go with it, which can be confusing.\n",
    "\n",
    "There are many types of games like shooting games, racing games, and the other ones that you can play on phone or computer or also television. People play them to pass time, and also to talk to others on internet but sometimes it is not good because too much gaming can spoil the mind or eyes, and parents say not to do that but kids still do it because they enjoy a lot.\n",
    "\n",
    "Some people even make money from gaming but it is not easy and you must practice very much and sometimes luck is also needed. There are games that teach things too, but not all of them. Some are just wasting of time and you get nothing from it except time gone.\n",
    "\n",
    "In conclusion, gaming is nice but also not always good and people should do it sometimes but not too much because there are many other things in life too like studies and going outside and other work. Gaming is important but not everything and people should remember that before it becomes too much.\n",
    "\"\"\""
   ]
  },
  {
   "cell_type": "code",
   "execution_count": 58,
   "id": "0263dfe6",
   "metadata": {},
   "outputs": [],
   "source": [
    "initial_state= {\n",
    "    'essay': essay2\n",
    "}\n",
    "\n",
    "final_state= workflow.invoke(initial_state)"
   ]
  },
  {
   "cell_type": "code",
   "execution_count": 59,
   "id": "4e6444eb",
   "metadata": {},
   "outputs": [
    {
     "data": {
      "text/plain": [
       "{'essay': '\\nGaming is something that many people do these days and it has become very big in the world. When people are playing games, they are doing it for fun, but also sometimes not for fun because it can make you angry too if you lose or the level is hard. Games are like movies but not really because you can play them and make your own story, but also sometimes the story is already made and you just go with it, which can be confusing.\\n\\nThere are many types of games like shooting games, racing games, and the other ones that you can play on phone or computer or also television. People play them to pass time, and also to talk to others on internet but sometimes it is not good because too much gaming can spoil the mind or eyes, and parents say not to do that but kids still do it because they enjoy a lot.\\n\\nSome people even make money from gaming but it is not easy and you must practice very much and sometimes luck is also needed. There are games that teach things too, but not all of them. Some are just wasting of time and you get nothing from it except time gone.\\n\\nIn conclusion, gaming is nice but also not always good and people should do it sometimes but not too much because there are many other things in life too like studies and going outside and other work. Gaming is important but not everything and people should remember that before it becomes too much.\\n',\n",
       " 'language_feedback': 'The essay provides a basic idea of what gaming is and its effects on people. However, the writing is simple and lacks depth. The language used is informal and lacks variety, resulting in repetitive and simplistic sentences. The essay could benefit from more complex vocabulary, varied sentence structures, and a clearer organization. Additionally, the writer could provide more specific examples and evidence to support their claims. Overall, the essay demonstrates a good understanding of the topic but requires improvement in terms of writing quality and depth.',\n",
       " 'analysis_feedback': \"The essay provides a basic understanding of gaming and its various aspects, but it lacks depth and analysis. The writer's thoughts are not fully developed, and the essay does not have a clear structure. The writer also uses simplistic language and lacks evidence to support their arguments. The essay could benefit from more research, analysis, and critical thinking. Additionally, the writer could provide more examples and anecdotes to make their points more convincing. Overall, the essay shows promise but needs significant improvement.\",\n",
       " 'clarity_feedback': 'The clarity of thought in this essay is generally good, but there are some issues with sentence structure, grammar, and coherence. The essay jumps between different topics without a clear flow, and some sentences are quite simplistic. The writer also uses vague terms like \"not always good\" and \"not everything,\" which could be clarified. Additionally, some sentences are quite long and convoluted, making them difficult to follow. However, the writer does raise some valid points about the potential negative effects of gaming and the importance of balancing it with other aspects of life. With some revisions to address these issues, the essay could be significantly improved.',\n",
       " 'overall_feedback': \"Here's a summarized feedback for the essay:\\n\\nThe essay provides a basic understanding of gaming and its effects on people, but requires significant improvement in terms of writing quality, depth of analysis, and clarity of thought. The writing is informal, simplistic, and lacks variety, resulting in repetitive sentences. The essay could benefit from more complex vocabulary, varied sentence structures, and a clearer organization. Additionally, the writer should provide more specific examples and evidence to support their claims, as well as more research and analysis to develop their thoughts. Revise the essay to address issues with sentence structure, grammar, and coherence, and to clarify vague terms and convoluted sentences. With significant revisions, the essay has the potential to demonstrate a more nuanced understanding of the topic and present a stronger argument.\",\n",
       " 'individual_scores': [4, 6, 6],\n",
       " 'avg_score': 5.333333333333333}"
      ]
     },
     "execution_count": 59,
     "metadata": {},
     "output_type": "execute_result"
    }
   ],
   "source": [
    "final_state"
   ]
  }
 ],
 "metadata": {
  "kernelspec": {
   "display_name": ".venv",
   "language": "python",
   "name": "python3"
  },
  "language_info": {
   "codemirror_mode": {
    "name": "ipython",
    "version": 3
   },
   "file_extension": ".py",
   "mimetype": "text/x-python",
   "name": "python",
   "nbconvert_exporter": "python",
   "pygments_lexer": "ipython3",
   "version": "3.9.6"
  }
 },
 "nbformat": 4,
 "nbformat_minor": 5
}
