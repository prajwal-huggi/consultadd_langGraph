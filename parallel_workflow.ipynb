{
 "cells": [
  {
   "cell_type": "code",
   "execution_count": 1,
   "id": "f0345e5a",
   "metadata": {},
   "outputs": [
    {
     "name": "stderr",
     "output_type": "stream",
     "text": [
      "/Users/consultadd/Prajwal/consultadd_langGraph/.venv/lib/python3.9/site-packages/urllib3/__init__.py:35: NotOpenSSLWarning: urllib3 v2 only supports OpenSSL 1.1.1+, currently the 'ssl' module is compiled with 'LibreSSL 2.8.3'. See: https://github.com/urllib3/urllib3/issues/3020\n",
      "  warnings.warn(\n"
     ]
    }
   ],
   "source": [
    "from langgraph.graph import StateGraph, START, END\n",
    "from typing import TypedDict\n",
    "import os\n",
    "from dotenv import load_dotenv"
   ]
  },
  {
   "cell_type": "code",
   "execution_count": 2,
   "id": "91b8dc1b",
   "metadata": {},
   "outputs": [],
   "source": [
    "class CricketState(TypedDict):\n",
    "    runs: int\n",
    "    balls: int\n",
    "    fours: int\n",
    "    sixes: int\n",
    "    \n",
    "    strike_rate: float\n",
    "    boundary_percent: float\n",
    "    summary: str"
   ]
  },
  {
   "cell_type": "code",
   "execution_count": 9,
   "id": "4b829333",
   "metadata": {},
   "outputs": [],
   "source": [
    "def get_strike_rate(state:CricketState):\n",
    "    sr= (state['runs']/ state['balls'])* 100\n",
    "    \n",
    "    return {'strike_rate': sr}"
   ]
  },
  {
   "cell_type": "code",
   "execution_count": 4,
   "id": "f0958484",
   "metadata": {},
   "outputs": [],
   "source": [
    "def get_boundary_percent(state:CricketState):\n",
    "    boundary_percent= 100* ((state['fours']* 4+ state['sixes']* 6)/ state['runs'])\n",
    "    \n",
    "    return {'boundary_percent': boundary_percent}"
   ]
  },
  {
   "cell_type": "code",
   "execution_count": 5,
   "id": "eb770401",
   "metadata": {},
   "outputs": [],
   "source": [
    "def summary(state: CricketState):\n",
    "    summary= f\"\"\"\n",
    "    strike rate: {state['strike_rate']} \\n\n",
    "    boundary percent: {state['boundary_percent']} \\n\n",
    "    \"\"\"\n",
    "    \n",
    "    return {'summary': summary}"
   ]
  },
  {
   "cell_type": "code",
   "execution_count": 10,
   "id": "47c557e4",
   "metadata": {},
   "outputs": [],
   "source": [
    "graph= StateGraph(CricketState)\n",
    "\n",
    "graph.add_node('get_strike_rate', get_strike_rate)\n",
    "graph.add_node('get_boundary_percent', get_boundary_percent)\n",
    "graph.add_node('summary', summary)\n",
    "\n",
    "graph.add_edge(START, 'get_strike_rate')\n",
    "graph.add_edge(START, 'get_boundary_percent')\n",
    "\n",
    "graph.add_edge('get_strike_rate', 'summary')\n",
    "graph.add_edge('get_boundary_percent', 'summary')\n",
    "\n",
    "graph.add_edge('summary', END)\n",
    "\n",
    "workflow= graph.compile()"
   ]
  },
  {
   "cell_type": "code",
   "execution_count": 11,
   "id": "8912e860",
   "metadata": {},
   "outputs": [],
   "source": [
    "initial_state= {\"sixes\": 5, \"fours\": 6,\"balls\": 50, \"runs\": 100}\n",
    "final_state= workflow.invoke(initial_state)"
   ]
  },
  {
   "cell_type": "code",
   "execution_count": 12,
   "id": "9a775e00",
   "metadata": {},
   "outputs": [
    {
     "data": {
      "text/plain": [
       "{'runs': 100,\n",
       " 'balls': 50,\n",
       " 'fours': 6,\n",
       " 'sixes': 5,\n",
       " 'strike_rate': 200.0,\n",
       " 'boundary_percent': 54.0,\n",
       " 'summary': '\\n    strike rate: 200.0 \\n\\n    boundary percent: 54.0 \\n\\n    '}"
      ]
     },
     "execution_count": 12,
     "metadata": {},
     "output_type": "execute_result"
    }
   ],
   "source": [
    "final_state"
   ]
  }
 ],
 "metadata": {
  "kernelspec": {
   "display_name": ".venv",
   "language": "python",
   "name": "python3"
  },
  "language_info": {
   "codemirror_mode": {
    "name": "ipython",
    "version": 3
   },
   "file_extension": ".py",
   "mimetype": "text/x-python",
   "name": "python",
   "nbconvert_exporter": "python",
   "pygments_lexer": "ipython3",
   "version": "3.9.6"
  }
 },
 "nbformat": 4,
 "nbformat_minor": 5
}
