{
 "cells": [
  {
   "cell_type": "markdown",
   "id": "73f4eb10",
   "metadata": {},
   "source": [
    "**Non LLM BASED**"
   ]
  },
  {
   "cell_type": "markdown",
   "id": "914cbcf5",
   "metadata": {},
   "source": [
    "Quadratic Equation Workflow"
   ]
  },
  {
   "cell_type": "code",
   "execution_count": 15,
   "id": "b70d4371",
   "metadata": {},
   "outputs": [],
   "source": [
    "from langgraph.graph import StateGraph, START, END\n",
    "from typing import TypedDict, Literal"
   ]
  },
  {
   "cell_type": "code",
   "execution_count": 16,
   "id": "1729e06d",
   "metadata": {},
   "outputs": [],
   "source": [
    "class QuadState(TypedDict):\n",
    "    a: int\n",
    "    b: int\n",
    "    c: int\n",
    "    \n",
    "    equation: str\n",
    "    discriminant: float\n",
    "    \n",
    "    result: str"
   ]
  },
  {
   "cell_type": "code",
   "execution_count": 17,
   "id": "857e7cbc",
   "metadata": {},
   "outputs": [],
   "source": [
    "def show_equation(state:QuadState)-> QuadState:\n",
    "    equation= f\"{state['a']}x2+ {state['b']}x+ {state['c']}\"\n",
    "    \n",
    "    return {\"equation\": equation}"
   ]
  },
  {
   "cell_type": "code",
   "execution_count": 18,
   "id": "13721bcb",
   "metadata": {},
   "outputs": [],
   "source": [
    "def calculate_discriminant(state: QuadState):\n",
    "    a= state['a']\n",
    "    b= state['b']\n",
    "    c= state['c']\n",
    "    \n",
    "    discriminant= b**2- 4*a*c\n",
    "    \n",
    "    return {\"discriminant\": discriminant}"
   ]
  },
  {
   "cell_type": "code",
   "execution_count": 19,
   "id": "0fbbcfa0",
   "metadata": {},
   "outputs": [],
   "source": [
    "def no_real_roots(state: QuadState)-> QuadState:\n",
    "    return {\"result\": \"There is no real roots present fo the given equation\"}\n",
    "\n",
    "def real_roots(state: QuadState)-> QuadState:\n",
    "    root1= (-state['b']+ state['discriminant']** 0.5)/ (2* state['a'])\n",
    "    root2= (-state['b']- state['discriminant']** 0.5)/ (2* state['a'])\n",
    "    \n",
    "    result= f\"The roots are {root1} and {root2}\"\n",
    "    \n",
    "    return {\"result\": result}\n",
    "\n",
    "def repeated_roots(state: QuadState)-> QuadState:\n",
    "    root= (-state['b'])/ (2* state['a'])\n",
    "    \n",
    "    result= f\"The only repeating root is {root}\"\n",
    "    return {\"result\": result}"
   ]
  },
  {
   "cell_type": "code",
   "execution_count": 20,
   "id": "4ac7057f",
   "metadata": {},
   "outputs": [],
   "source": [
    "def check_condition(state: QuadState)-> Literal[\"repeated_roots\", \"real_roots\", \"no_real_roots\"]:\n",
    "    if state['discriminant']> 0:\n",
    "        return \"real_roots\"\n",
    "    elif state['discriminant']== 0:\n",
    "        return \"repeated_roots\"\n",
    "    else:\n",
    "        return \"no_real_roots\""
   ]
  },
  {
   "cell_type": "code",
   "execution_count": 21,
   "id": "260a1c48",
   "metadata": {},
   "outputs": [],
   "source": [
    "graph= StateGraph(QuadState)\n",
    "\n",
    "graph.add_node('show_equation', show_equation)\n",
    "graph.add_node('calculate_discriminant', calculate_discriminant)\n",
    "\n",
    "graph.add_node('no_real_roots', no_real_roots)\n",
    "graph.add_node('real_roots', real_roots)\n",
    "graph.add_node('repeated_roots', repeated_roots)\n",
    "\n",
    "\n",
    "graph.add_edge(START, 'show_equation')\n",
    "graph.add_edge('show_equation', 'calculate_discriminant')\n",
    "\n",
    "graph.add_conditional_edges('calculate_discriminant',check_condition)\n",
    "\n",
    "graph.add_edge('no_real_roots', END)\n",
    "graph.add_edge('real_roots', END)\n",
    "graph.add_edge('repeated_roots', END)\n",
    "\n",
    "workflow= graph.compile()"
   ]
  },
  {
   "cell_type": "code",
   "execution_count": 23,
   "id": "69bd0312",
   "metadata": {},
   "outputs": [
    {
     "data": {
      "text/plain": [
       "{'a': 1,\n",
       " 'b': 4,\n",
       " 'c': 10,\n",
       " 'equation': '1x2+ 4x+ 10',\n",
       " 'discriminant': -24,\n",
       " 'result': 'There is no real roots present fo the given equation'}"
      ]
     },
     "execution_count": 23,
     "metadata": {},
     "output_type": "execute_result"
    }
   ],
   "source": [
    "initial_state={\"a\": 1, \"b\": 4, \"c\": 10}\n",
    "\n",
    "final_state= workflow.invoke(initial_state)\n",
    "\n",
    "final_state"
   ]
  }
 ],
 "metadata": {
  "kernelspec": {
   "display_name": ".venv",
   "language": "python",
   "name": "python3"
  },
  "language_info": {
   "codemirror_mode": {
    "name": "ipython",
    "version": 3
   },
   "file_extension": ".py",
   "mimetype": "text/x-python",
   "name": "python",
   "nbconvert_exporter": "python",
   "pygments_lexer": "ipython3",
   "version": "3.9.6"
  }
 },
 "nbformat": 4,
 "nbformat_minor": 5
}
